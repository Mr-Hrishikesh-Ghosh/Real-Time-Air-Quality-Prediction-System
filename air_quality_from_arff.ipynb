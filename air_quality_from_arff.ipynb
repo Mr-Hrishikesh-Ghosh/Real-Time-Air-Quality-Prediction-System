{
 "cells": [
  {
   "cell_type": "code",
   "execution_count": 1,
   "metadata": {},
   "outputs": [],
   "source": [
    "import os\n",
    "print(os.getcwd())"
   ]
  },
  {
   "cell_type": "code",
   "execution_count": 2,
   "metadata": {},
   "outputs": [],
   "source": [
    "import pandas as pd\n",
    "import numpy as np\n",
    "import matplotlib.pyplot as plt\n",
    "import seaborn as sns\n",
    "from sklearn.model_selection import train_test_split\n",
    "from sklearn.linear_model import LinearRegression\n",
    "from sklearn.metrics import mean_squared_error, r2_score"
   ]
  },
  {
   "cell_type": "code",
   "execution_count": 3,
   "metadata": {},
   "outputs": [],
   "source": [
    "# Expanded dataset with major Indian cities\n",
    "data = {\n",
    "    'City': [\n",
    "        'Delhi','Mumbai','Chennai','Kolkata','Bangalore','Hyderabad','Pune','Ahmedabad',\n",
    "        'Jaipur','Lucknow','Kanpur','Nagpur','Visakhapatnam','Indore','Patna','Bhopal',\n",
    "        'Agra','Varanasi','Amritsar','Chandigarh','Coimbatore','Guwahati','Ranchi',\n",
    "        'Raipur','Surat','Vadodara','Ludhiana','Nashik','Mangalore','Mysore'\n",
    "    ],\n",
    "    'Date': ['2024-01-01']*30,\n",
    "    'PM2.5': [153, 70, 174, 477, 171, 132, 88, 119, 140, 160, 172, 130, 98, 122, 190, 111,\n",
    "              175, 210, 199, 105, 82, 144, 155, 166, 100, 115, 123, 90, 78, 65],\n",
    "    'PM10': [242, 313, 275, 544, 118, 221, 180, 260, 245, 280, 299, 240, 205, 230, 320, 210,\n",
    "              275, 350, 300, 190, 155, 245, 260, 275, 200, 225, 210, 175, 165, 145],\n",
    "    'NO2': [33, 42, 69, 76, 12, 30, 25, 40, 38, 44, 50, 29, 33, 39, 60, 27,\n",
    "            58, 72, 66, 22, 19, 40, 42, 44, 31, 35, 38, 28, 20, 18],\n",
    "    'CO': [1.8, 7.2, 8.5, 2.4, 1.2, 3.0, 2.8, 4.0, 3.6, 3.9, 4.1, 2.5, 2.7, 3.2, 5.5, 2.2,\n",
    "           5.0, 6.0, 5.8, 2.1, 1.9, 3.8, 4.0, 4.2, 2.9, 3.3, 3.5, 2.4, 2.0, 1.7],\n",
    "    'AQI': [205, 61, 486, 174, 490, 301, 195, 220, 245, 280, 310, 230, 200, 225, 390, 240,\n",
    "            310, 420, 400, 190, 160, 250, 270, 290, 210, 235, 240, 180, 170, 150],\n",
    "    'AQI_Bucket': [\n",
    "        'Severe','Satisfactory','Severe','Very Poor','Good','Poor','Moderate','Poor',\n",
    "        'Poor','Very Poor','Very Poor','Poor','Moderate','Poor','Severe','Poor',\n",
    "        'Very Poor','Severe','Severe','Moderate','Satisfactory','Poor','Poor','Poor',\n",
    "        'Moderate','Poor','Poor','Moderate','Moderate','Satisfactory'\n",
    "    ]\n",
    "}\n",
    "\n",
    "df = pd.DataFrame(data)\n",
    "print(df.head())\n",
    "print(\"\\nTotal cities in dataset:\", len(df))"
   ]
  },
  {
   "cell_type": "code",
   "execution_count": 4,
   "metadata": {},
   "outputs": [],
   "source": [
    "# Quick summary\n",
    "print(\"\\nData Types:\\n\", df.dtypes)\n",
    "print(\"\\nMissing Values:\\n\", df.isnull().sum())\n",
    "print(\"\\nBasic Statistics:\\n\", df.describe())"
   ]
  },
  {
   "cell_type": "code",
   "execution_count": 5,
   "metadata": {},
   "outputs": [],
   "source": [
    "# Visualization: PM2.5 by City\n",
    "df.plot(x='City', y='PM2.5', kind='bar', title='PM2.5 Levels by City', color='skyblue', figsize=(12,6))\n",
    "plt.ylabel('PM2.5 Level')\n",
    "plt.xticks(rotation=90)\n",
    "plt.show()\n",
    "\n",
    "# Correlation heatmap\n",
    "plt.figure(figsize=(6,4))\n",
    "sns.heatmap(df[['PM2.5','PM10','NO2','CO','AQI']].corr(), annot=True, cmap='coolwarm')\n",
    "plt.title('Correlation Heatmap')\n",
    "plt.show()"
   ]
  },
  {
   "cell_type": "code",
   "execution_count": 6,
   "metadata": {},
   "outputs": [],
   "source": [
    "# Model Training: Predict AQI using pollutants\n",
    "X = df[['PM2.5','PM10','NO2','CO']]\n",
    "y = df['AQI']\n",
    "\n",
    "X_train, X_test, y_train, y_test = train_test_split(X, y, test_size=0.3, random_state=42)\n",
    "\n",
    "model = LinearRegression()\n",
    "model.fit(X_train, y_train)\n",
    "\n",
    "y_pred = model.predict(X_test)\n",
    "\n",
    "print(\"Model Coefficients:\", model.coef_)\n",
    "print(\"Model Intercept:\", model.intercept_)\n",
    "print(\"MSE:\", mean_squared_error(y_test, y_pred))\n",
    "print(\"R^2 Score:\", r2_score(y_test, y_pred))"
   ]
  },
  {
   "cell_type": "code",
   "execution_count": 7,
   "metadata": {},
   "outputs": [],
   "source": [
    "# Prediction Example (New data)\n",
    "new_data = pd.DataFrame({\n",
    "    'PM2.5':[120, 300],\n",
    "    'PM10':[200, 500],\n",
    "    'NO2':[40, 80],\n",
    "    'CO':[2.0, 5.0]\n",
    "})\n",
    "\n",
    "predictions = model.predict(new_data)\n",
    "print(\"Predicted AQI for new samples:\", predictions)"
   ]
  }
 ],
 "metadata": {
  "kernelspec": {
   "display_name": "Python 3",
   "language": "python",
   "name": "python3"
  },
  "language_info": {
   "name": "python",
   "version": "3.13.0"
  }
 },
 "nbformat": 4,
 "nbformat_minor": 5
}
