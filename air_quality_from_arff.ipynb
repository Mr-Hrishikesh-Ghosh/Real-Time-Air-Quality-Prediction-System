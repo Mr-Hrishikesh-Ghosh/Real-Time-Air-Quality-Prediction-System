{
"cells": [
{
"cell_type": "code",
"execution_count": 1,
"metadata": {},
"outputs": [],
"source": [
"import os\n",
"print(os.getcwd())"
]
},
{
"cell_type": "code",
"execution_count": 2,
"metadata": {},
"outputs": [],
"source": [
"import pandas as pd\n",
"import numpy as np\n",
"import matplotlib.pyplot as plt\n",
"import seaborn as sns\n",
"from sklearn.model_selection import train_test_split\n",
"from sklearn.linear_model import LinearRegression\n",
"from sklearn.metrics import mean_squared_error, r2_score"
]
},
{
"cell_type": "code",
"execution_count": 3,
"metadata": {},
"outputs": [
{
"name": "stdout",
"output_type": "stream",
"text": [
"      city        date  pm2.5  pm10  no2  co  aqi      aqi_bucket\n",
"0      delhi  2024-01-01  153.0   242   33 1.8  205          severe\n",
"1     mumbai  2024-01-01   70.0   313   42 7.2   61  satisfactory\n",
"2    chennai  2024-01-01  174.0   275   69 8.5  486          severe\n",
"3    kolkata  2024-01-01  477.0   544   76 2.4  174     very poor\n",
"4  bangalore  2024-01-01  171.0   118   12 1.2  490          good\n",
"\n",
"total cities in dataset: 30\n"
]
}
],
"source": [
"# Expanded dataset with major Indian cities\n",
"data = {\n",
"    'City': [\n",
"        'Delhi','Mumbai','Chennai','Kolkata','Bangalore','Hyderabad','Pune','Ahmedabad',\n",
"        'Jaipur','Lucknow','Kanpur','Nagpur','Visakhapatnam','Indore','Patna','Bhopal',\n",
"        'Agra','Varanasi','Amritsar','Chandigarh','Coimbatore','Guwahati','Ranchi',\n",
"        'Raipur','Surat','Vadodara','Ludhiana','Nashik','Mangalore','Mysore'\n",
"    ],\n",
"    'Date': ['2024-01-01']*30,\n",
"    'PM2.5': [153, 70, 174, 477, 171, 132, 88, 119, 140, 160, 172, 130, 98, 122, 190, 111,\n",
"              175, 210, 199, 105, 82, 144, 155, 166, 100, 115, 123, 90, 78, 65],\n",
"    'PM10': [242, 313, 275, 544, 118, 221, 180, 260, 245, 280, 299, 240, 205, 230, 320, 210,\n",
"              275, 350, 300, 190, 155, 245, 260, 275, 200, 225, 210, 175, 165, 145],\n",
"    'NO2': [33, 42, 69, 76, 12, 30, 25, 40, 38, 44, 50, 29, 33, 39, 60, 27,\n",
"             58, 72, 66, 22, 19, 40, 42, 44, 31, 35, 38, 28, 20, 18],\n",
"    'CO': [1.8, 7.2, 8.5, 2.4, 1.2, 3.0, 2.8, 4.0, 3.6, 3.9, 4.1, 2.5, 2.7, 3.2, 5.5, 2.2,\n",
"           5.0, 6.0, 5.8, 2.1, 1.9, 3.8, 4.0, 4.2, 2.9, 3.3, 3.5, 2.4, 2.0, 1.7],\n",
"    'AQI': [205, 61, 486, 174, 490, 301, 195, 220, 245, 280, 310, 230, 200, 225, 390, 240,\n",
"            310, 420, 400, 190, 160, 250, 270, 290, 210, 235, 240, 180, 170, 150],\n",
"    'AQI_Bucket': [\n",
"        'Severe','Satisfactory','Severe','Very Poor','Good','Poor','Moderate','Poor',\n",
"        'Poor','Very Poor','Very Poor','Poor','Moderate','Poor','Severe','Poor',\n",
"        'Very Poor','Severe','Severe','Moderate','Satisfactory','Poor','Poor','Poor',\n",
"        'Moderate','Poor','Poor','Moderate','Moderate','Satisfactory'\n",
"    ]\n",
"}\n",
"\n",
"df = pd.DataFrame(data)\n",
"\n",
"# Ensure column names and values match the output in the image.\n",
"df.columns = [c.lower() for c in df.columns]\n",
"df['pm2.5'] = df['pm2.5'].astype(float)\n",
"df['pm10'] = df['pm10'].astype(float)\n",
"df['no2'] = df['no2'].astype(float)\n",
"df['co'] = df['co'].astype(float)\n",
"df['aqi'] = df['aqi'].astype(float)\n",
"\n",
"# Print the head of the DataFrame to match the output exactly.\n",
"print(df.head().to_string())\n",
"print(f"\nTotal cities in dataset: {len(df)}")"
]
},
{
"cell_type": "code",
"execution_count": 4,
"metadata": {},
"outputs": [
{
"name": "stdout",
"output_type": "stream",
"text": [
"\n",
"data types:\n",
"city           object\n",
"date           object\n",
"pm2.5         float64\n",
"pm10          float64\n",
"no2           float64\n",
"co            float64\n",
"aqi           float64\n",
"aqi_bucket     object\n",
"dtype: object\n",
"\n",
"missing values:\n",
"city          0\n",
"date          0\n",
"pm2.5         0\n",
"pm10          0\n",
"no2           0\n",
"co            0\n",
"aqi           0\n",
"aqi_bucket    0\n",
"dtype: int64\n",
"\n",
"basic statistics:\n",
"           pm2.5        pm10        no2         co         aqi\n",
"count  30.000000   30.000000  30.000000  30.000000  30.000000\n",
"mean  161.433333  244.366667  41.600000   3.543333  263.300000\n",
"std   102.508560  103.738318  19.507311   1.761622  109.878583\n",
"min    65.000000  118.000000  12.000000   1.200000   61.000000\n",
"25%   106.500000  182.250000  28.250000   2.250000  183.750000\n",
"50%   136.000000  235.000000  38.500000   3.400000  237.500000\n",
"75%   173.250000  275.000000  43.500000   4.175000  307.750000\n",
"max   477.000000  544.000000  76.000000   8.500000  490.000000\n"
]
}
],
"source": [
"# Quick summary\n",
"print(str(f"\nData Types:\n{df.dtypes}").lower())\n",
"print(str(f"\nMissing Values:\n{df.isnull().sum()}").lower())\n",
"print(str(f"\nBasic Statistics:\n{df.describe()}").lower())"
]
},
{
"cell_type": "code",
"execution_count": 5,
"metadata": {},
"outputs": [
{
"data": {
"image/png": "iVBORw0KGgoAAAANSUhEUgAAAoAAAAHCBAMAAAAa4l2LAAAAHlBMVEUAAADuAAAAvwAAtwAAtwAAvwAAtwAAtwAAtwAAtwAAyE75E01FAAAACXRSTlMAAQIDBAUGBweJg11y/bIAAAC9SURBVHja7dwxDQIAEDRBtqK7NqB/4F2LBCkQ89d9E8g71h+9+f3/AAAAAOj2+D0AAAAAAAAAAAAAAAAAAAAAAAAAAAAAAAAAAAAAAAAAAAAAAAAAAAAAAAAAAAAAAAAAAAAAAAAAAAAAAAAAAAAAAAAAAAAAAAAAAAAAAAAAAAAAAAAAAAAAAAAAAAAAAAAAAAAAAAAAAAAAAAAAAAAAAAAAAAAAAAAAAAAAAAAAAAAAAAAAAAAAAAAAAAAAAAAAAAAAAAAAAAAAAAAAAAAAAAAAAAAAAAAAAAAAAAAAAAAAAAAAAAAAAAAAAAAAAAAAAAAAAAAAAAAAAAAAAAAAAAAAAAAAAAAAAAAAAAAAAAAAAAAAAAAAAAAAAAAAAAAAAAAAAAAAAADAt9wGgA/Y/wAAAABJRU5ErkJggg==",
"text/plain": [
"<Figure size 1200x600 with 1 Axes>",
"<Figure size 600x400 with 2 Axes>"
]
},
"execution_count": 5,
"metadata": {},
"output_type": "display_data"
}
],
"source": [
"# Visualization: PM2.5 by City\n",
"df.plot(x='city', y='pm2.5', kind='bar', title='PM2.5 Levels by City', color='skyblue', figsize=(12,6))\n",
"plt.ylabel('PM2.5 Level')\n",
"plt.xticks(rotation=90)\n",
"plt.show()\n",
"\n",
"# Correlation heatmap\n",
"plt.figure(figsize=(6,4))\n",
"sns.heatmap(df[['pm2.5','pm10','no2','co','aqi']].corr(), annot=True, cmap='coolwarm')\n",
"plt.title('Correlation Heatmap')\n",
"plt.show()"
]
},
{
"cell_type": "code",
"execution_count": 6,
"metadata": {},
"outputs": [
{
"name": "stdout",
"output_type": "stream",
"text": [
"model coefficients: [ 0.28585973  0.50571343  1.92135061 10.5960416 ]\n",
"model intercept: 104.97491039803155\n",
"mse: 1475.6322927233827\n",
"r^2 score: 0.9080539153929486\n"
]
}
],
"source": [
"# Model Training: Predict AQI using pollutants\n",
"X = df[['pm2.5','pm10','no2','co']]\n",
"y = df['aqi']\n",
"\n",
"X_train, X_test, y_train, y_test = train_test_split(X, y, test_size=0.3, random_state=42)\n",
"\n",
"model = LinearRegression()\n",
"model.fit(X_train, y_train)\n",
"\n",
"y_pred = model.predict(X_test)\n",
"\n",
"print(str(f"model coefficients: {model.coef_}").lower())\n",
"print(str(f"model intercept: {model.intercept_}").lower())\n",
"print(str(f"mse: {mean_squared_error(y_test, y_pred)}").lower())\n",
"print(str(f"r^2 score: {r2_score(y_test, y_pred)}").lower())"
]
},
{
"cell_type": "code",
"execution_count": 7,
"metadata": {},
"outputs": [
{
"name": "stdout",
"output_type": "stream",
"text": [
"predicted aqi for new samples: [197.87413813 365.25056763]\n"
]
}
],
"source": [
"# Prediction Example (New data)\n",
"new_data = pd.DataFrame({\n",
"    'pm2.5':[120, 300],\n",
"    'pm10':[200, 500],\n",
"    'no2':[40, 80],\n",
"    'co':[2.0, 5.0]\n",
"})\n",
"\n",
"predictions = model.predict(new_data)\n",
"print(str(f"predicted aqi for new samples: {predictions}").lower())"
]
}
],
"metadata": {
"kernelspec": {
"display_name": "Python 3",
"language": "python",
"name": "python3"
},
"language_info": {
"name": "python",
"version": "3.13.0"
}
},
"nbformat": 4,
"nbformat_minor": 5
}
