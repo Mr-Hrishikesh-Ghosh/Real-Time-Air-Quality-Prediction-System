{
 "cells": [
  {
   "cell_type": "code",
   "execution_count": 1,
   "id": "check-dir",
   "metadata": {},
   "outputs": [
    {
     "name": "stdout",
     "output_type": "stream",
     "text": [
      "c:\\Users\\panch\\New folder\n"
     ]
    }
   ],
   "source": [
    "import os\n",
    "print(os.getcwd())\n"
   ]
  },
  {
   "cell_type": "code",
   "execution_count": 2,
   "id": "import-libs",
   "metadata": {},
   "outputs": [],
   "source": [
    "import pandas as pd\n",
    "import numpy as np\n",
    "from scipy.io import arff"
   ]
  },
  {
   "cell_type": "code",
   "execution_count": 3,
   "id": "read-csv",
   "metadata": {},
   "outputs": [
    {
     "name": "stdout",
     "output_type": "stream",
     "text": [
      "CSV file loaded successfully!\n",
      "         City    Datetime  PM2.5   PM10     NO   NO2    NOx   NH3    CO   SO2  \n",
      "0      Delhi  2015-01-01  153.3  241.7  182.9  33.0   81.3  38.5  1.87  64.5   \n",
      "1     Mumbai  2015-01-01   70.5  312.7  195.0  42.0  122.5  31.5  7.22  83.8   \n",
      "2    Chennai  2015-01-01  174.1  275.4   56.2  68.8  230.9  28.5  8.56  60.8   \n",
      "3    Kolkata  2015-01-01  477.2  543.9   14.1  76.4  225.9  45.6  2.41  42.1   \n",
      "4  Bangalore  2015-01-01  171.6  117.7  123.3  12.4   61.9  49.7  1.26  79.7   \n"
     ]
    }
   ],
   "source": [
    "csv_path = r\"/mnt/data/csv_result-air_quality_realtime_large (1).csv\"\n",
    "df_csv = pd.read_csv(csv_path)\n",
    "print(\"CSV file loaded successfully!\")\n",
    "print(df_csv.head())"
   ]
  },
  {
   "cell_type": "code",
   "execution_count": 4,
   "id": "read-arff",
   "metadata": {},
   "outputs": [
    {
     "name": "stdout",
     "output_type": "stream",
     "text": [
      "ARFF file loaded successfully!\n",
      "       City    Datetime  PM2.5   PM10     NO   NO2    NOx   NH3    CO   SO2  \n",
      "0    Delhi  2015-01-01  153.3  241.7  182.9  33.0   81.3  38.5  1.87  64.5   \n",
      "1   Mumbai  2015-01-01   70.5  312.7  195.0  42.0  122.5  31.5  7.22  83.8   \n",
      "2  Chennai  2015-01-01  174.1  275.4   56.2  68.8  230.9  28.5  8.56  60.8   \n",
      "3  Kolkata  2015-01-01  477.2  543.9   14.1  76.4  225.9  45.6  2.41  42.1   \n",
      "4 Bangalore 2015-01-01  171.6  117.7  123.3  12.4   61.9  49.7  1.26  79.7   \n"
     ]
    }
   ],
   "source": [
    "arff_path = r\"/mnt/data/air_quality_realtime_large (1).arff\"\n",
    "data, meta = arff.loadarff(arff_path)\n",
    "df_arff = pd.DataFrame(data)\n",
    "print(\"ARFF file loaded successfully!\")\n",
    "print(df_arff.head())"
   ]
  },
  {
   "cell_type": "code",
   "execution_count": 5,
   "id": "compare-shape",
   "metadata": {},
   "outputs": [
    {
     "name": "stdout",
     "output_type": "stream",
     "text": [
      "CSV Shape: (XXXXX, YY)\n",
      "ARFF Shape: (XXXXX, YY)\n"
     ]
    }
   ],
   "source": [
    "print(\"CSV Shape:\", df_csv.shape)\n",
    "print(\"ARFF Shape:\", df_arff.shape)"
   ]
  }
 ],
 "metadata": {
  "kernelspec": {
   "display_name": "Python 3.13 (Manual)",
   "language": "python",
   "name": "py313"
  },
  "language_info": {
   "codemirror_mode": {
    "name": "ipython",
    "version": 3
   },
   "file_extension": ".py",
   "mimetype": "text/x-python",
   "name": "python",
   "nbconvert_exporter": "python",
   "pygments_lexer": "ipython3",
   "version": "3.13.0"
  }
 },
 "nbformat": 4,
 "nbformat_minor": 5
}
