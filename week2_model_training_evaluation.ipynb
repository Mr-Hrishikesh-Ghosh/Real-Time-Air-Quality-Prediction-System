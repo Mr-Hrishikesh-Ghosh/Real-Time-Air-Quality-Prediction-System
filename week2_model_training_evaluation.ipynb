{
  "nbformat": 4,
  "nbformat_minor": 0,
  "metadata": {
    "colab": {
      "provenance": []
    },
    "kernelspec": {
      "name": "python3",
      "display_name": "Python 3"
    },
    "language_info": {
      "name": "python"
    }
  },
  "cells": [
    {
      "cell_type": "code",
      "execution_count": 2,
      "metadata": {
        "colab": {
          "base_uri": "https://localhost:8080/"
        },
        "id": "TFasDG1cw8xf",
        "outputId": "e23cfa64-b974-43ac-91a1-516a6a70014e"
      },
      "outputs": [
        {
          "output_type": "stream",
          "name": "stdout",
          "text": [
            "Model Evaluation Results:\n",
            "Pollutant    MAE  R2_Score\n",
            "    PM2.5  4.566     0.763\n",
            "     PM10 10.270     0.696\n",
            "       O3  3.392     0.749\n",
            "       CO  0.046     0.516\n",
            "      SO2  1.649     0.665\n",
            "      NO2  4.004     0.727\n"
          ]
        }
      ],
      "source": [
        "# Week 2 - Real-Time Air Quality Prediction System\n",
        "import pandas as pd\n",
        "import numpy as np\n",
        "from sklearn.ensemble import RandomForestRegressor\n",
        "from sklearn.metrics import mean_absolute_error, r2_score\n",
        "\n",
        "# Simulated correlated dataset for one city (Delhi)\n",
        "np.random.seed(42)\n",
        "n = 200\n",
        "\n",
        "# Generate correlated pollutants\n",
        "PM25 = np.random.normal(60, 15, n)\n",
        "PM25_next = PM25 * 0.8 + np.random.normal(0, 5, n)\n",
        "\n",
        "PM10 = np.random.normal(100, 25, n)\n",
        "PM10_next = PM10 * 0.8 + np.random.normal(0, 10, n)\n",
        "\n",
        "O3 = np.random.normal(30, 10, n)\n",
        "O3_next = O3 * 0.7 + np.random.normal(0, 3, n)\n",
        "\n",
        "CO = np.random.normal(0.5, 0.1, n)\n",
        "CO_next = CO * 0.7 + np.random.normal(0, 0.05, n)\n",
        "\n",
        "SO2 = np.random.normal(20, 5, n)\n",
        "SO2_next = SO2 * 0.75 + np.random.normal(0, 2, n)\n",
        "\n",
        "NO2 = np.random.normal(40, 10, n)\n",
        "NO2_next = NO2 * 0.75 + np.random.normal(0, 4, n)\n",
        "\n",
        "# Combine into DataFrame\n",
        "df = pd.DataFrame({\n",
        "    \"datetime\": pd.date_range(end=pd.Timestamp.now(), periods=n, freq=\"h\"),  # 'h' to remove warning\n",
        "    \"PM2.5\": PM25,\n",
        "    \"PM10\": PM10,\n",
        "    \"O3\": O3,\n",
        "    \"CO\": CO,\n",
        "    \"SO2\": SO2,\n",
        "    \"NO2\": NO2,\n",
        "})\n",
        "\n",
        "# Prepare target columns\n",
        "df[\"PM2.5_next\"] = PM25_next\n",
        "df[\"PM10_next\"] = PM10_next\n",
        "df[\"O3_next\"] = O3_next\n",
        "df[\"CO_next\"] = CO_next\n",
        "df[\"SO2_next\"] = SO2_next\n",
        "df[\"NO2_next\"] = NO2_next\n",
        "\n",
        "# Train Random Forest and evaluate\n",
        "results = []\n",
        "for pollutant in [\"PM2.5\", \"PM10\", \"O3\", \"CO\", \"SO2\", \"NO2\"]:\n",
        "    data = df[[pollutant, f\"{pollutant}_next\"]].dropna()\n",
        "    X = data[[pollutant]].values\n",
        "    y = data[f\"{pollutant}_next\"].values\n",
        "\n",
        "    split = int(len(X) * 0.8)\n",
        "    X_train, X_test = X[:split], X[split:]\n",
        "    y_train, y_test = y[:split], y[split:]\n",
        "\n",
        "    model = RandomForestRegressor(n_estimators=100, random_state=42)\n",
        "    model.fit(X_train, y_train)\n",
        "\n",
        "    y_pred = model.predict(X_test)\n",
        "    mae = mean_absolute_error(y_test, y_pred)\n",
        "    r2 = r2_score(y_test, y_pred)\n",
        "\n",
        "    results.append([pollutant, round(mae, 3), round(r2, 3)])\n",
        "\n",
        "# Show evaluation results\n",
        "eval_df = pd.DataFrame(results, columns=[\"Pollutant\", \"MAE\", \"R2_Score\"])\n",
        "print(\"Model Evaluation Results:\")\n",
        "print(eval_df.to_string(index=False))\n"
      ]
    }
  ]
}