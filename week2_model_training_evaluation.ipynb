{
  "nbformat": 4,
  "nbformat_minor": 0,
  "metadata": {
    "colab": {
      "provenance": []
    },
    "kernelspec": {
      "name": "python3",
      "display_name": "Python 3"
    },
    "language_info": {
      "name": "python"
    }
  },
  "cells": [
    {
      "cell_type": "code",
      "execution_count": 1,
      "metadata": {
        "colab": {
          "base_uri": "https://localhost:8080/"
        },
        "id": "TFasDG1cw8xf",
        "outputId": "2ee4cf20-8962-4769-9157-2e8e4b84ad38"
      },
      "outputs": [
        {
          "output_type": "stream",
          "name": "stderr",
          "text": [
            "/tmp/ipython-input-321285036.py:9: FutureWarning: 'H' is deprecated and will be removed in a future version, please use 'h' instead.\n",
            "  date_rng = pd.date_range(end=pd.Timestamp.now(), periods=200, freq=\"H\")\n"
          ]
        },
        {
          "output_type": "stream",
          "name": "stdout",
          "text": [
            "Model Evaluation Results:\n",
            "Pollutant    MAE  R2_Score\n",
            "    PM2.5 14.316    -0.834\n",
            "     PM10 26.791    -0.570\n",
            "       O3  8.821    -0.304\n",
            "       CO  0.084    -0.365\n",
            "      SO2  4.923    -0.493\n",
            "      NO2 12.159    -0.802\n"
          ]
        }
      ],
      "source": [
        "# Week 2 - Real-Time Air Quality Prediction System\n",
        "import pandas as pd\n",
        "import numpy as np\n",
        "from sklearn.ensemble import RandomForestRegressor\n",
        "from sklearn.metrics import mean_absolute_error, r2_score\n",
        "\n",
        "# Simulated dataset for one city (Delhi)\n",
        "np.random.seed(42)\n",
        "date_rng = pd.date_range(end=pd.Timestamp.now(), periods=200, freq=\"H\")\n",
        "df = pd.DataFrame({\n",
        "    \"datetime\": date_rng,\n",
        "    \"PM2.5\": np.random.normal(60, 15, 200),\n",
        "    \"PM10\": np.random.normal(100, 25, 200),\n",
        "    \"O3\": np.random.normal(30, 10, 200),\n",
        "    \"CO\": np.random.normal(0.5, 0.1, 200),\n",
        "    \"SO2\": np.random.normal(20, 5, 200),\n",
        "    \"NO2\": np.random.normal(40, 10, 200),\n",
        "})\n",
        "\n",
        "# Shift data by 1 hour for prediction\n",
        "results = []\n",
        "for pollutant in [\"PM2.5\", \"PM10\", \"O3\", \"CO\", \"SO2\", \"NO2\"]:\n",
        "    df[f\"{pollutant}_next\"] = df[pollutant].shift(-1)\n",
        "\n",
        "    data = df[[pollutant, f\"{pollutant}_next\"]].dropna()\n",
        "    X = data[[pollutant]].values\n",
        "    y = data[f\"{pollutant}_next\"].values\n",
        "\n",
        "    split = int(len(X) * 0.8)\n",
        "    X_train, X_test = X[:split], X[split:]\n",
        "    y_train, y_test = y[:split], y[split:]\n",
        "\n",
        "    model = RandomForestRegressor(n_estimators=100, random_state=42)\n",
        "    model.fit(X_train, y_train)\n",
        "\n",
        "    y_pred = model.predict(X_test)\n",
        "    mae = mean_absolute_error(y_test, y_pred)\n",
        "    r2 = r2_score(y_test, y_pred)\n",
        "\n",
        "    results.append([pollutant, round(mae, 3), round(r2, 3)])\n",
        "\n",
        "# Show evaluation results clearly\n",
        "eval_df = pd.DataFrame(results, columns=[\"Pollutant\", \"MAE\", \"R2_Score\"])\n",
        "print(\"Model Evaluation Results:\")\n",
        "print(eval_df.to_string(index=False))\n"
      ]
    }
  ]
}