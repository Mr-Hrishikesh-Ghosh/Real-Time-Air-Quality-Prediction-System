{
 "cells": [
  {
   "cell_type": "markdown",
   "metadata": {},
   "source": [
    "# Week 2 - Real-Time Air Quality Prediction System\n",
    "## Model Training & Evaluation"
   ]
  },
  {
   "cell_type": "code",
   "metadata": {},
   "source": [
    "import pandas as pd\n",
    "import numpy as np\n",
    "from sklearn.ensemble import RandomForestRegressor\n",
    "from sklearn.metrics import mean_absolute_error, r2_score"
   ],
   "execution_count": null,
   "outputs": []
  },
  {
   "cell_type": "markdown",
   "metadata": {},
   "source": [
    "### Simulated Dataset (Delhi)"
   ]
  },
  {
   "cell_type": "code",
   "metadata": {},
   "source": [
    "np.random.seed(42)\n",
    "date_rng = pd.date_range(end=pd.Timestamp.now(), periods=200, freq=\"H\")\n",
    "df = pd.DataFrame({\n",
    "    \"datetime\": date_rng,\n",
    "    \"PM2.5\": np.random.normal(60, 15, 200),\n",
    "    \"PM10\": np.random.normal(100, 25, 200),\n",
    "    \"O3\": np.random.normal(30, 10, 200),\n",
    "    \"CO\": np.random.normal(0.5, 0.1, 200),\n",
    "    \"SO2\": np.random.normal(20, 5, 200),\n",
    "    \"NO2\": np.random.normal(40, 10, 200),\n",
    "})\n",
    "df.head()"
   ],
   "execution_count": null,
   "outputs": []
  },
  {
   "cell_type": "markdown",
   "metadata": {},
   "source": [
    "### Train Random Forest Models & Evaluate"
   ]
  },
  {
   "cell_type": "code",
   "metadata": {},
   "source": [
    "# Shift data by 1 hour for prediction\n",
    "results = []\n",
    "for pollutant in [\"PM2.5\", \"PM10\", \"O3\", \"CO\", \"SO2\", \"NO2\"]:\n",
    "    df[f\"{pollutant}_next\"] = df[pollutant].shift(-1)\n",
    "\n",
    "    data = df[[pollutant, f\"{pollutant}_next\"]].dropna()\n",
    "    X = data[[pollutant]].values\n",
    "    y = data[f\"{pollutant}_next\"].values\n",
    "\n",
    "    split = int(len(X) * 0.8)\n",
    "    X_train, X_test = X[:split], X[split:]\n",
    "    y_train, y_test = y[:split], y[split:]\n",
    "\n",
    "    model = RandomForestRegressor(n_estimators=100, random_state=42)\n",
    "    model.fit(X_train, y_train)\n",
    "\n",
    "    y_pred = model.predict(X_test)\n",
    "    mae = mean_absolute_error(y_test, y_pred)\n",
    "    r2 = r2_score(y_test, y_pred)\n",
    "\n",
    "    results.append([pollutant, round(mae, 3), round(r2, 3)])"
   ],
   "execution_count": null,
   "outputs": []
  },
  {
   "cell_type": "code",
   "metadata": {},
   "source": [
    "# Show evaluation results\n",
    "eval_df = pd.DataFrame(results, columns=[\"Pollutant\", \"MAE\", \"R2_Score\"])\n",
    "print(\"Model Evaluation Results:\")\n",
    "eval_df"
   ],
   "execution_count": null,
   "outputs": []
  },
  {
   "cell_type": "markdown",
   "metadata": {},
   "source": [
    "### Interpretation\n",
    "- MAE: Mean Absolute Error for each pollutant.\n",
    "- R² Score: How well the model explains variance in the data.\n",
    "- This notebook demonstrates Week 2 tasks: model selection, implementation, and evaluation."
   ]
  }
 ],
 "metadata": {
  "kernelspec": {
   "display_name": "Python 3",
   "language": "python",
   "name": "python3"
  },
  "language_info": {
   "name": "python",
   "version": "3.13"
  }
 },
 "nbformat": 4,
 "nbformat_minor": 5
}
